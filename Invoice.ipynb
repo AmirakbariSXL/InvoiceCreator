{
 "cells": [
  {
   "cell_type": "code",
   "execution_count": 48,
   "id": "002a08dc",
   "metadata": {},
   "outputs": [
    {
     "name": "stdout",
     "output_type": "stream",
     "text": [
      "**************************************************\n",
      "\t\tPythonism.Co\n",
      "\t\tTehran,Azadistreet\n",
      "\t\tAmir Akbari\n",
      "==================================================\n",
      "\tProduct Name:           Product Price:\n",
      "\tIphone 13 \t\t$700\n",
      "\tAsus Laptop \t\t$598.99\n",
      "\tMonitor \t\t$156.89\n",
      "==================================================\n",
      "\t\t\t\tTotal:\n",
      "\t\t\t\t$1455.88\n",
      "==================================================\n",
      "\n",
      "\tThanks for shopping with us today!\n",
      "**************************************************\n"
     ]
    }
   ],
   "source": [
    "# Define the products and their prices\n",
    "product1_name, product1_price = 'Iphone 13', 700\n",
    "product2_name, product2_price = 'Asus Laptop', 598.99\n",
    "product3_name, product3_price = 'Monitor',  156.89\n",
    "\n",
    "# Define the company name and address\n",
    "company_name = 'Pythonism.Co'\n",
    "company_address = 'Tehran,AzadiStreet'\n",
    "Founder_name = 'Amir Akbari'\n",
    "\n",
    "# Define the greeting message\n",
    "message = 'Thanks for shopping with us today!'\n",
    "\n",
    "# Create the invoice\n",
    "print('*' * 50)\n",
    "print('\\t\\t{}'.format(company_name.title()))\n",
    "print('\\t\\t{}'.format(company_address.title()))\n",
    "print('\\t\\t{}'.format(Founder_name.title()))\n",
    "print('=' * 50)\n",
    "print('\\tProduct Name:           Product Price:')\n",
    "print('\\t{} \\t\\t${}'.format(product1_name.title(), product1_price))\n",
    "print('\\t{} \\t\\t${}'.format(product2_name.title(), product2_price))\n",
    "print('\\t{} \\t\\t${}'.format(product3_name.title(), product3_price))\n",
    "print('=' * 50)\n",
    "total = product1_price + product2_price + product3_price\n",
    "print('\\t\\t\\t\\tTotal:')\n",
    "print('\\t\\t\\t\\t${}'.format(total))\n",
    "print('=' * 50)\n",
    "print('\\n\\t{}'.format(message))\n",
    "print('*' * 50)\n",
    "\n",
    "\n",
    "#SXL :)"
   ]
  },
  {
   "cell_type": "code",
   "execution_count": null,
   "id": "b7ce1bef",
   "metadata": {},
   "outputs": [],
   "source": []
  },
  {
   "cell_type": "code",
   "execution_count": null,
   "id": "4e5d2ff6",
   "metadata": {},
   "outputs": [],
   "source": []
  }
 ],
 "metadata": {
  "kernelspec": {
   "display_name": "Python 3 (ipykernel)",
   "language": "python",
   "name": "python3"
  },
  "language_info": {
   "codemirror_mode": {
    "name": "ipython",
    "version": 3
   },
   "file_extension": ".py",
   "mimetype": "text/x-python",
   "name": "python",
   "nbconvert_exporter": "python",
   "pygments_lexer": "ipython3",
   "version": "3.9.13"
  }
 },
 "nbformat": 4,
 "nbformat_minor": 5
}
